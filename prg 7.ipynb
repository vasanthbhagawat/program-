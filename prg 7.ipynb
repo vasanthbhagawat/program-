{
 "cells": [
  {
   "cell_type": "code",
   "execution_count": null,
   "id": "7325bbc6",
   "metadata": {},
   "outputs": [],
   "source": []
  },
  {
   "cell_type": "code",
   "execution_count": null,
   "id": "ebbd8421",
   "metadata": {},
   "outputs": [],
   "source": []
  },
  {
   "cell_type": "code",
   "execution_count": 4,
   "id": "f49b9a68",
   "metadata": {},
   "outputs": [
    {
     "name": "stdout",
     "output_type": "stream",
     "text": [
      "Array:\n",
      "[[6 7 2 6]\n",
      " [1 5 9 9]\n",
      " [4 4 7 6]\n",
      " [6 1 5 3]\n",
      " [9 5 2 8]]\n",
      "Shape: (5, 4)\n",
      "Size: 20\n",
      "Data type: int32\n"
     ]
    },
    {
     "data": {
      "image/png": "[encoded data removed]",
      "text/plain": [
       "<Figure size 432x288 with 2 Axes>"
      ]
     },
     "metadata": {
      "needs_background": "light"
     },
     "output_type": "display_data"
    }
   ],
   "source": [
    "import numpy as np\n",
    "import matplotlib.pyplot as plt\n",
    "\n",
    "m = 5  # number of rows\n",
    "n = 4  # number of columns\n",
    "\n",
    "# Create mxn integer array with random values\n",
    "arr = np.random.randint(0, 10, (m, n))\n",
    "\n",
    "# Print array and its attributes\n",
    "print(\"Array:\")\n",
    "print(arr)\n",
    "print(\"Shape:\", arr.shape)\n",
    "print(\"Size:\", arr.size)\n",
    "print(\"Data type:\", arr.dtype)\n",
    "\n",
    "# Plot array as heatmap\n",
    "plt.imshow(arr, cmap='viridis', interpolation='nearest')\n",
    "plt.colorbar()\n",
    "plt.show()\n"
   ]
  },
  {
   "cell_type": "code",
   "execution_count": null,
   "id": "e78dde76",
   "metadata": {},
   "outputs": [],
   "source": []
  }
 ],
 "metadata": {
  "kernelspec": {
   "display_name": "Python 3 (ipykernel)",
   "language": "python",
   "name": "python3"
  },
  "language_info": {
   "codemirror_mode": {
    "name": "ipython",
    "version": 3
   },
   "file_extension": ".py",
   "mimetype": "text/x-python",
   "name": "python",
   "nbconvert_exporter": "python",
   "pygments_lexer": "ipython3",
   "version": "3.9.7"
  }
 },
 "nbformat": 4,
 "nbformat_minor": 5
}
